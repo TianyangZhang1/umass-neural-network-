{
 "cells": [
  {
   "cell_type": "markdown",
   "metadata": {},
   "source": [
    "# CS682 Discussion Session 01: Slicing and Broadcasting in Python\n",
    "\n",
    "## 1. Python List and Numpy Array (ndarray)\n",
    "\n",
    "### 1.1 Difference between List and Numpy Array\n",
    "- List is a collection of items. The items in a List can be numbers, strings, list, Numpy Array, etc.  \n",
    "- Numpy Array is a grid of values, all of the same data type."
   ]
  },
  {
   "cell_type": "code",
   "execution_count": 1,
   "metadata": {},
   "outputs": [
    {
     "name": "stdout",
     "output_type": "stream",
     "text": [
      "my_list: [1, '2', [3], 4.01]\n",
      "<type 'list'>\n",
      "s_l1: [0, 4, 16]\n"
     ]
    }
   ],
   "source": [
    "my_list = [1, '2', [3]]\n",
    "my_list += [4.01]\n",
    "print 'my_list:', my_list\n",
    "print type(my_list)\n",
    "\n",
    "l1 = [0, 1, 2, 3, 4]\n",
    "s_l1 = [x**2 for x in l1 if x % 2 == 0]\n",
    "print 's_l1:', s_l1"
   ]
  },
  {
   "cell_type": "code",
   "execution_count": 2,
   "metadata": {},
   "outputs": [
    {
     "name": "stdout",
     "output_type": "stream",
     "text": [
      "my_arr: ['hello' '1']\n",
      "<type 'numpy.ndarray'>\n",
      "shape: (2,)\n",
      "dtype: |S5\n"
     ]
    }
   ],
   "source": [
    "import numpy as np\n",
    "my_arr = np.array(['hello', 1])\n",
    "print 'my_arr:', my_arr\n",
    "print type(my_arr)\n",
    "print 'shape:', my_arr.shape\n",
    "print 'dtype:', my_arr.dtype"
   ]
  },
  {
   "cell_type": "markdown",
   "metadata": {},
   "source": [
    "### 1.2 len, size, shape, indexing"
   ]
  },
  {
   "cell_type": "code",
   "execution_count": 3,
   "metadata": {},
   "outputs": [
    {
     "name": "stdout",
     "output_type": "stream",
     "text": [
      "[[0, 1, 2, 3], [4, 5, 6, 7]]\n",
      "2\n",
      "----------\n",
      "[[0 1 2 3]\n",
      " [4 5 6 7]]\n",
      "2 8 (2, 4)\n"
     ]
    }
   ],
   "source": [
    "l = [[0, 1, 2, 3], [4, 5, 6, 7]]\n",
    "a = np.arange(8).reshape((2,4))\n",
    "print l\n",
    "print len(l)\n",
    "print '----------'\n",
    "print a\n",
    "print len(a), a.size, a.shape"
   ]
  },
  {
   "cell_type": "code",
   "execution_count": 4,
   "metadata": {},
   "outputs": [
    {
     "name": "stdout",
     "output_type": "stream",
     "text": [
      "[4 5 6 7] <type 'numpy.ndarray'>\n",
      "6\n",
      "6\n",
      "----------\n",
      "6\n"
     ]
    },
    {
     "ename": "TypeError",
     "evalue": "list indices must be integers, not tuple",
     "output_type": "error",
     "traceback": [
      "\u001b[0;31m---------------------------------------------------------------------------\u001b[0m",
      "\u001b[0;31mTypeError\u001b[0m                                 Traceback (most recent call last)",
      "\u001b[0;32m<ipython-input-4-bab8674e0c06>\u001b[0m in \u001b[0;36m<module>\u001b[0;34m()\u001b[0m\n\u001b[1;32m      4\u001b[0m \u001b[0;32mprint\u001b[0m \u001b[0;34m'----------'\u001b[0m\u001b[0;34m\u001b[0m\u001b[0m\n\u001b[1;32m      5\u001b[0m \u001b[0;32mprint\u001b[0m \u001b[0ml\u001b[0m\u001b[0;34m[\u001b[0m\u001b[0;36m1\u001b[0m\u001b[0;34m]\u001b[0m\u001b[0;34m[\u001b[0m\u001b[0;36m2\u001b[0m\u001b[0;34m]\u001b[0m\u001b[0;34m\u001b[0m\u001b[0m\n\u001b[0;32m----> 6\u001b[0;31m \u001b[0;32mprint\u001b[0m \u001b[0ml\u001b[0m\u001b[0;34m[\u001b[0m\u001b[0;36m1\u001b[0m\u001b[0;34m,\u001b[0m \u001b[0;36m2\u001b[0m\u001b[0;34m]\u001b[0m\u001b[0;34m\u001b[0m\u001b[0m\n\u001b[0m",
      "\u001b[0;31mTypeError\u001b[0m: list indices must be integers, not tuple"
     ]
    }
   ],
   "source": [
    "print a[1], type(a[1])\n",
    "print a[1][2]\n",
    "print a[1, 2]\n",
    "print '----------'\n",
    "print l[1][2]\n",
    "print l[1, 2]"
   ]
  },
  {
   "cell_type": "markdown",
   "metadata": {},
   "source": [
    "### 1.3 Transfer between List and Numpy Array\n",
    "\n",
    "- List to Numpy Array: a = np.array(l) or a = np.asarray(l)  \n",
    "- Numpy Array to List: l = a.tolist()"
   ]
  },
  {
   "cell_type": "code",
   "execution_count": null,
   "metadata": {},
   "outputs": [],
   "source": [
    "l = [[0, 1, 2, 3], [4, 5, 6, 7]]\n",
    "a = np.array(l)\n",
    "a1 = np.asarray(l)\n",
    "print 'a:', a, type(a)\n",
    "print 'a1:', a1, type(a1)\n",
    "\n",
    "print '--------'\n",
    "\n",
    "l1 = list(a)\n",
    "print 'l1:', type(l1), l1\n",
    "\n",
    "l2 = a.tolist()\n",
    "print 'l2:', type(l2), l2 "
   ]
  },
  {
   "cell_type": "markdown",
   "metadata": {},
   "source": [
    "## 2. Slicing\n",
    "\n",
    "### 2.1 Basic usage"
   ]
  },
  {
   "cell_type": "code",
   "execution_count": 5,
   "metadata": {},
   "outputs": [
    {
     "name": "stdout",
     "output_type": "stream",
     "text": [
      "[[ 0  1  2  3]\n",
      " [ 4  5  6  7]\n",
      " [ 8  9 10 11]]\n",
      "-------\n",
      "row1\n",
      "[4 5 6 7] (4,)\n",
      "row2\n",
      "[[4 5 6 7]] (1, 4)\n",
      "row3\n",
      "[4 5 6 7] (4,)\n",
      "row4\n",
      "[[ 4  5  6  7]\n",
      " [ 8  9 10 11]] (2, 4)\n",
      "-------\n",
      "col1\n",
      "[[ 2  3]\n",
      " [ 6  7]\n",
      " [10 11]] (3, 2)\n",
      "col2\n",
      "[[ 0  2]\n",
      " [ 4  6]\n",
      " [ 8 10]] (3, 2)\n",
      "-------\n",
      "(3, 4)\n",
      "(3, 4)\n"
     ]
    }
   ],
   "source": [
    "a = np.arange(12).reshape((3,4))\n",
    "print a\n",
    "print '-------'\n",
    "\n",
    "row1 = a[1, :]    \n",
    "row2 = a[1:2, :]\n",
    "row3 = a[1]\n",
    "row4 = a[1:]\n",
    "print 'row1\\n', row1, row1.shape \n",
    "print 'row2\\n', row2, row2.shape\n",
    "print 'row3\\n', row3, row3.shape\n",
    "print 'row4\\n', row4, row4.shape\n",
    "print '-------'\n",
    "\n",
    "col1 = a[:, -2:]\n",
    "col2 = a[:, 0:-1:2]\n",
    "print 'col1\\n', col1, col1.shape \n",
    "print 'col2\\n', col2, col2.shape\n",
    "print '-------'\n",
    "\n",
    "a1 = a[:]\n",
    "a2 = a[:, :]\n",
    "print a1.shape\n",
    "print a2.shape"
   ]
  },
  {
   "cell_type": "markdown",
   "metadata": {},
   "source": [
    "### 2.2 Change of dimensions"
   ]
  },
  {
   "cell_type": "code",
   "execution_count": null,
   "metadata": {},
   "outputs": [],
   "source": [
    "a = np.arange(24).reshape((2, 3, 4))\n",
    "print a\n",
    "print 'a', a.shape\n",
    "\n",
    "a1 = a[1:2, 0:3, 1:3]\n",
    "print 'a1', a1.shape\n",
    "\n",
    "a2 = a[1, 0:3, 1:3]\n",
    "print 'a2', a2.shape\n",
    "\n",
    "a3 = a[0:2, -2, -1:]\n",
    "print 'a3', a3.shape"
   ]
  },
  {
   "cell_type": "markdown",
   "metadata": {},
   "source": [
    "### 2.3 Modify values"
   ]
  },
  {
   "cell_type": "code",
   "execution_count": null,
   "metadata": {},
   "outputs": [],
   "source": [
    "l = range(5)\n",
    "print 'original: '\n",
    "print l\n",
    "\n",
    "print 'exp1:'\n",
    "m = l\n",
    "print m is l\n",
    "print m == l\n",
    "m[0] = -1\n",
    "print l\n",
    "\n",
    "print 'exp2:'\n",
    "m = l[:]\n",
    "print m is l\n",
    "print m == l\n",
    "m[1] = -2\n",
    "print l\n",
    "\n",
    "print 'exp3:'\n",
    "l[2] = -3\n",
    "print l"
   ]
  },
  {
   "cell_type": "code",
   "execution_count": null,
   "metadata": {
    "scrolled": true
   },
   "outputs": [],
   "source": [
    "a = np.arange(5)\n",
    "print 'original: '\n",
    "print a\n",
    "\n",
    "print 'exp0:'\n",
    "a[3] = -10\n",
    "print a\n",
    "\n",
    "print 'exp1:'\n",
    "b = a\n",
    "print a is b\n",
    "print a == b\n",
    "b[1] = -1\n",
    "print a\n",
    "\n",
    "print 'exp2:'\n",
    "b = a[:]\n",
    "print a is b\n",
    "b[2] = -2\n",
    "print a\n",
    "\n",
    "print 'exp3:'\n",
    "b = a[:]\n",
    "b = np.array([5,4,3,2,1])\n",
    "print a"
   ]
  },
  {
   "cell_type": "code",
   "execution_count": null,
   "metadata": {},
   "outputs": [],
   "source": [
    "# Skip this cell\n",
    "\n",
    "a = np.arange(12).reshape((3,4))\n",
    "print 'original: '\n",
    "print a\n",
    "\n",
    "print 'exp1:'\n",
    "a[1, 2] = -1\n",
    "print a \n",
    "\n",
    "print 'exp2:'\n",
    "b = a[1, 2]\n",
    "b = -2\n",
    "print a \n",
    "\n",
    "print 'exp3:'\n",
    "b = a\n",
    "b[1,2] = -3\n",
    "print a\n",
    "\n",
    "print 'exp4:'\n",
    "b = a[:]\n",
    "b[1,2] = -4\n",
    "print a\n",
    "\n",
    "print 'exp5:'\n",
    "b = a[2, :]\n",
    "b[1] = -5\n",
    "print a\n",
    "\n",
    "print 'exp6:'\n",
    "b = a[2]\n",
    "b[1] = -6\n",
    "print a"
   ]
  },
  {
   "cell_type": "markdown",
   "metadata": {},
   "source": [
    "### 2.4 Other indexing tricks\n",
    "- Indexing with boolean array\n",
    "- Indexing with integer list / array"
   ]
  },
  {
   "cell_type": "code",
   "execution_count": null,
   "metadata": {},
   "outputs": [],
   "source": [
    "a = np.arange(12).reshape((3,4))\n",
    "print 'original: '\n",
    "print a\n",
    "\n",
    "print '\\nexp1:'\n",
    "idx = (a % 2 == 0)\n",
    "print idx\n",
    "print type(idx)\n",
    "print a[idx]\n",
    "\n",
    "print '\\nexp2:'\n",
    "idx = (a[0] < 3)\n",
    "print idx\n",
    "print a[1:, idx]\n",
    "print a[1:, idx.tolist()]\n",
    "\n",
    "print '\\nexp3:'\n",
    "idx = (a[0] < 3)\n",
    "b = a[1:, idx]\n",
    "b[0, 0] = -10\n",
    "print b\n",
    "print a"
   ]
  },
  {
   "cell_type": "code",
   "execution_count": null,
   "metadata": {},
   "outputs": [],
   "source": [
    "a = np.arange(12).reshape((3,4))\n",
    "print 'original: '\n",
    "print a\n",
    "\n",
    "print '\\nexp1:'\n",
    "print a[1, [2,3]]  # [a[1,2], a[1,3]]\n",
    "print a[1, np.array([2,3])]\n",
    "\n",
    "print '\\nexp2:'\n",
    "print a[[0, 1, 2], [1, 2, 3]]  # [a[0,1], a[1,2], a[2,3]]\n",
    "print '***'\n",
    "print a[[[0, 1, 2], [1, 2, 3]]]\n",
    "print '***'\n",
    "idx = np.array([[0, 1, 2], [1, 2, 0]])  # [[a[0], a[1], a[2]], [a[1], a[2], a[0]]]\n",
    "print a[idx]"
   ]
  },
  {
   "cell_type": "markdown",
   "metadata": {},
   "source": [
    "## 3. Broadcasting\n",
    "### 3.1 The basic idea\n",
    "- Universal functions: functions that apply elementwise on arrays  \n",
    "    Examples: np.add, np.power, np.greater, np.log, np.absolute  \n",
    "- Universal functions that takes two input arrays:  \n",
    "    - Simplest case: two input arrays have same shape  \n",
    "    - Two inputs with different shapes? Broadcasting!  \n",
    "        Replicate values to make their shapes match  \n",
    "        Can avoid making redundant copies\n",
    "        \n",
    "**A simple example:**"
   ]
  },
  {
   "cell_type": "code",
   "execution_count": null,
   "metadata": {},
   "outputs": [],
   "source": [
    "a = np.arange(12).reshape((3,4))\n",
    "b = 1.1\n",
    "c = np.arange(4)\n",
    "\n",
    "print a\n",
    "print b\n",
    "print c\n",
    "print a * b\n",
    "print (a * b) + c"
   ]
  },
  {
   "cell_type": "markdown",
   "metadata": {},
   "source": [
    "### 3.2 The broadcasting rule\n",
    "**Example:**  \n",
    "Shape of A:   2 x 4 x 1 x 3  \n",
    "Shape of B:   5 x 1 \n",
    "Shape of A+B: 2 x 4 x 5 x 3\n",
    "\n",
    "- If one array has smaller dimension, fill 1's at the beginning of its shape\n",
    "    - B: 5 x 1 --> 1 x 1 x 5 x 1\n",
    "- Start from the last dimension and work forward\n",
    "- If one array has length 1 for the current dimension, replicate the values in that dimension\n",
    "    - A: 2 x 4 x 1 x 3 --> 2 x 4 x 5 x 3  \n",
    "    - B: 1 x 1 x 5 x 1 --> 2 x 4 x 5 x 3\n",
    "- If either array has greater than 1 for a dimension, and two arrays don't match: report an error"
   ]
  },
  {
   "cell_type": "code",
   "execution_count": null,
   "metadata": {},
   "outputs": [],
   "source": [
    "A = np.arange(2*4*3).reshape((2,4,1,3))\n",
    "B = np.arange(5).reshape((5,1)) * 0.1\n",
    "C = A + B\n",
    "print 'A\\n', A\n",
    "print '\\nB\\n', B\n",
    "print '\\nC', C.shape\n",
    "print C"
   ]
  },
  {
   "cell_type": "markdown",
   "metadata": {},
   "source": [
    "## 4. Advice\n",
    "- Keep track of shapes of the variables:  \n",
    "    - Write your expected shapes in the comments\n",
    "    - Print out the actual shapes and see if it matches\n",
    "- Make up small examples and test your code\n",
    "\n",
    "## 5. Practice Question\n",
    "100 students are divided into 5 teams (team 0,1,2,3,4). There are 3 courses. Each student has a grade (0 ~ 1) for each course.  \n",
    "The criteria of an \"honor student\" is that: for every course, the student needs to get a grade higher than the average grade of all the students that are not in the same team with him / her.  \n",
    "For example, when considering students from team 1, 2, 3 and 4, the average grade for the three courses are 0.8, 0.85, 0.9 respectively. An \"honor student\" from team 0 needs to get higher than 0.8, 0.85, 0.9 respectively for the three courses.\n",
    "\n",
    "teams = np.random.choice(5, size=100)  \n",
    "grades = np.random.rand(3, 100)\n",
    "\n",
    "Find out the number of honor students in each team."
   ]
  },
  {
   "cell_type": "code",
   "execution_count": null,
   "metadata": {},
   "outputs": [],
   "source": [
    "import numpy as np\n",
    "teams = np.random.choice(5, size=100)\n",
    "grades = np.random.rand(3, 100)\n",
    "\n",
    "print teams.shape\n",
    "print grades.shape"
   ]
  },
  {
   "cell_type": "code",
   "execution_count": null,
   "metadata": {},
   "outputs": [],
   "source": [
    "team_mask = np.arange(5).reshape((5,1)) != teams  # 5x100\n",
    "print team_mask.shape\n",
    "print teams[:8]\n",
    "print team_mask[:, :8]\n",
    "\n",
    "sum_grades = grades.dot(team_mask.T)  # 3x5\n",
    "print sum_grades"
   ]
  },
  {
   "cell_type": "code",
   "execution_count": null,
   "metadata": {},
   "outputs": [],
   "source": [
    "count_students = np.sum(team_mask, axis=1)  # 5\n",
    "print count_students\n",
    "\n",
    "ave_grades = sum_grades / count_students  # 3x5\n",
    "print ave_grades"
   ]
  },
  {
   "cell_type": "code",
   "execution_count": null,
   "metadata": {},
   "outputs": [],
   "source": [
    "require_grades = ave_grades[:, teams]  # 3x100\n",
    "print require_grades.shape\n",
    "print require_grades[:, :4]"
   ]
  },
  {
   "cell_type": "code",
   "execution_count": null,
   "metadata": {},
   "outputs": [],
   "source": [
    "is_honor = np.all(grades > require_grades, axis=0)  # 100\n",
    "print is_honor.shape\n",
    "print grades[:, :4]\n",
    "print is_honor[:4]"
   ]
  },
  {
   "cell_type": "code",
   "execution_count": null,
   "metadata": {},
   "outputs": [],
   "source": [
    "team_honor = (np.arange(5).reshape((5,1)) == teams) * is_honor  # 5x100\n",
    "print team_honor.shape\n",
    "print team_honor[:, :4]\n",
    "\n",
    "honor_count = np.sum(team_honor, axis=1)  # 5\n",
    "print honor_count.shape\n",
    "print honor_count"
   ]
  },
  {
   "cell_type": "code",
   "execution_count": null,
   "metadata": {
    "collapsed": true
   },
   "outputs": [],
   "source": []
  }
 ],
 "metadata": {
  "kernelspec": {
   "display_name": "Python 2",
   "language": "python",
   "name": "python2"
  },
  "language_info": {
   "codemirror_mode": {
    "name": "ipython",
    "version": 2
   },
   "file_extension": ".py",
   "mimetype": "text/x-python",
   "name": "python",
   "nbconvert_exporter": "python",
   "pygments_lexer": "ipython2",
   "version": "2.7.14"
  }
 },
 "nbformat": 4,
 "nbformat_minor": 1
}
