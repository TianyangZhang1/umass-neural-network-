{
 "cells": [
  {
   "cell_type": "code",
   "execution_count": 1,
   "metadata": {
    "collapsed": true
   },
   "outputs": [],
   "source": [
    "import numpy as np\n",
    "import pandas as pd\n",
    "import os\n",
    "import glob"
   ]
  },
  {
   "cell_type": "code",
   "execution_count": 2,
   "metadata": {},
   "outputs": [
    {
     "name": "stdout",
     "output_type": "stream",
     "text": [
      "['Load Data_12191216 4359239.xls', 'Load Data_12191230 2980063.xls', 'Load Data_12191206 3093584.xls', 'Load Data_12191300 2113241.xls', 'Load Data_12191240 2118864.xls', 'Load Data_12191202 2851433.xls', 'Load Data_12191212 3819314.xls', 'Load Data_12191221 2097996.xls', 'Load Data_12191254 3130415.xls', 'Load Data_12191218 2272639.xls', 'Load Data_12191209 2993154.xls', 'Load Data_12191234 4814120.xls']\n",
      "  Active Energy(-)T1(kWh) Active Energy(-)T2(kWh) Active energy(+)T1H(kWh)  \\\n",
      "0                    ----                    ----             2919300.0000   \n",
      "1                    ----                    ----             2919252.0000   \n",
      "2                    ----                    ----             2919204.0000   \n",
      "3                    ----                    ----             2919048.0000   \n",
      "4                    ----                    ----             2918772.0000   \n",
      "5                    ----                    ----             2918508.0000   \n",
      "6                    ----                    ----             2918244.0000   \n",
      "7                    ----                    ----             2917968.0000   \n",
      "8                    ----                    ----             2917848.0000   \n",
      "9                    ----                    ----             2917812.0000   \n",
      "\n",
      "  Active energy(+)T2L(kWh) Active energy(-)(kWh)     CT   Customer Address  \\\n",
      "0             3674376.0000               36.0000  400/1  PLT @ AWASI-BODER   \n",
      "1             3674376.0000               36.0000  400/1  PLT @ AWASI-BODER   \n",
      "2             3674376.0000               36.0000  400/1  PLT @ AWASI-BODER   \n",
      "3             3674376.0000               36.0000  400/1  PLT @ AWASI-BODER   \n",
      "4             3674376.0000               36.0000  400/1  PLT @ AWASI-BODER   \n",
      "5             3674376.0000               36.0000  400/1  PLT @ AWASI-BODER   \n",
      "6             3674376.0000               36.0000  400/1  PLT @ AWASI-BODER   \n",
      "7             3674376.0000               36.0000  400/1  PLT @ AWASI-BODER   \n",
      "8             3674376.0000               36.0000  400/1  PLT @ AWASI-BODER   \n",
      "9             3674376.0000               36.0000  400/1  PLT @ AWASI-BODER   \n",
      "\n",
      "           Customer Name  Customer No.              Date  \\\n",
      "0  LTD PRIME STEEL MILLS     4359239.0  2017-12-19 12:00   \n",
      "1  LTD PRIME STEEL MILLS     4359239.0  2017-12-19 11:45   \n",
      "2  LTD PRIME STEEL MILLS     4359239.0  2017-12-19 11:30   \n",
      "3  LTD PRIME STEEL MILLS     4359239.0  2017-12-19 11:15   \n",
      "4  LTD PRIME STEEL MILLS     4359239.0  2017-12-19 11:00   \n",
      "5  LTD PRIME STEEL MILLS     4359239.0  2017-12-19 10:45   \n",
      "6  LTD PRIME STEEL MILLS     4359239.0  2017-12-19 10:30   \n",
      "7  LTD PRIME STEEL MILLS     4359239.0  2017-12-19 10:15   \n",
      "8  LTD PRIME STEEL MILLS     4359239.0  2017-12-19 10:00   \n",
      "9  LTD PRIME STEEL MILLS     4359239.0  2017-12-19 09:45   \n",
      "\n",
      "           ...           Unnamed: 15 Unnamed: 2 Unnamed: 3 Unnamed: 4  \\\n",
      "0          ...                   NaN        NaN        NaN        NaN   \n",
      "1          ...                   NaN        NaN        NaN        NaN   \n",
      "2          ...                   NaN        NaN        NaN        NaN   \n",
      "3          ...                   NaN        NaN        NaN        NaN   \n",
      "4          ...                   NaN        NaN        NaN        NaN   \n",
      "5          ...                   NaN        NaN        NaN        NaN   \n",
      "6          ...                   NaN        NaN        NaN        NaN   \n",
      "7          ...                   NaN        NaN        NaN        NaN   \n",
      "8          ...                   NaN        NaN        NaN        NaN   \n",
      "9          ...                   NaN        NaN        NaN        NaN   \n",
      "\n",
      "  Unnamed: 5 Unnamed: 6 Unnamed: 7 Unnamed: 8 Unnamed: 9 active energy(+)(kWh)  \n",
      "0        NaN        NaN        NaN        NaN        NaN          6593676.0000  \n",
      "1        NaN        NaN        NaN        NaN        NaN          6593628.0000  \n",
      "2        NaN        NaN        NaN        NaN        NaN          6593580.0000  \n",
      "3        NaN        NaN        NaN        NaN        NaN          6593424.0000  \n",
      "4        NaN        NaN        NaN        NaN        NaN          6593148.0000  \n",
      "5        NaN        NaN        NaN        NaN        NaN          6592884.0000  \n",
      "6        NaN        NaN        NaN        NaN        NaN          6592620.0000  \n",
      "7        NaN        NaN        NaN        NaN        NaN          6592344.0000  \n",
      "8        NaN        NaN        NaN        NaN        NaN          6592224.0000  \n",
      "9        NaN        NaN        NaN        NaN        NaN          6592188.0000  \n",
      "\n",
      "[10 rows x 32 columns]\n"
     ]
    }
   ],
   "source": [
    "path = os.getcwd()\n",
    "files = os.listdir(path)\n",
    "\n",
    "files1 = files[0:8] + files[10:14]\n",
    "print files1\n",
    "df = pd.DataFrame()\n",
    "\n",
    "for i in range(len(files1)):\n",
    "    frame  = pd.read_excel(files1[i])\n",
    "    df = df.append(frame)\n",
    "#df = df.append(pd.read_excel(files1))\n",
    "print df.head(10)"
   ]
  },
  {
   "cell_type": "code",
   "execution_count": 3,
   "metadata": {
    "collapsed": true
   },
   "outputs": [],
   "source": [
    "newdataset = df.drop(['Active Energy(-)T1(kWh)', 'Active Energy(-)T2(kWh)','Active energy(+)T1H(kWh)' \n",
    "                      ,'Active energy(+)T2L(kWh)','Active energy(-)(kWh)'],axis = 1) "
   ]
  },
  {
   "cell_type": "code",
   "execution_count": 4,
   "metadata": {
    "collapsed": true
   },
   "outputs": [],
   "source": [
    "dataset = newdataset.drop(['Meter No.','Reactive energy(-)(kvarh)','Transformer'],axis = 1)\n",
    "newdataset2 = dataset.drop(['Unnamed: 3','Unnamed: 4','Unnamed: 5','Unnamed: 6','Unnamed: 7','Unnamed: 8',\n",
    "                           'Unnamed: 15','Unnamed: 2','Unnamed: 9',\n",
    "                            'Unnamed: 1','Unnamed: 10','Unnamed: 11','Unnamed: 12','Unnamed: 13','Unnamed: 14' \n",
    "                            ,'Unnamed: 0','CT', 'Customer Address',\n",
    "                            'Customer Name','Reactive energy(+)(kvarh)','PT'],axis = 1)\n"
   ]
  },
  {
   "cell_type": "code",
   "execution_count": 5,
   "metadata": {},
   "outputs": [
    {
     "name": "stdout",
     "output_type": "stream",
     "text": [
      "   Customer No.              Date active energy(+)(kWh)\n",
      "0     4359239.0  2017-12-19 12:00          6593676.0000\n",
      "1     4359239.0  2017-12-19 11:45          6593628.0000\n",
      "2     4359239.0  2017-12-19 11:30          6593580.0000\n",
      "3     4359239.0  2017-12-19 11:15          6593424.0000\n",
      "4     4359239.0  2017-12-19 11:00          6593148.0000\n",
      "5     4359239.0  2017-12-19 10:45          6592884.0000\n",
      "6     4359239.0  2017-12-19 10:30          6592620.0000\n",
      "7     4359239.0  2017-12-19 10:15          6592344.0000\n",
      "8     4359239.0  2017-12-19 10:00          6592224.0000\n",
      "9     4359239.0  2017-12-19 09:45          6592188.0000\n"
     ]
    }
   ],
   "source": [
    "print newdataset2.head(10)"
   ]
  },
  {
   "cell_type": "code",
   "execution_count": 6,
   "metadata": {},
   "outputs": [
    {
     "name": "stdout",
     "output_type": "stream",
     "text": [
      "   Customer No.              Date active energy(+)(kWh)\n",
      "0     4359239.0  2017-12-19 12:00          6593676.0000\n",
      "1     4359239.0  2017-12-19 11:45          6593628.0000\n",
      "2     4359239.0  2017-12-19 11:30          6593580.0000\n",
      "3     4359239.0  2017-12-19 11:15          6593424.0000\n",
      "4     4359239.0  2017-12-19 11:00          6593148.0000\n",
      "5     4359239.0  2017-12-19 10:45          6592884.0000\n",
      "6     4359239.0  2017-12-19 10:30          6592620.0000\n",
      "7     4359239.0  2017-12-19 10:15          6592344.0000\n",
      "8     4359239.0  2017-12-19 10:00          6592224.0000\n",
      "9     4359239.0  2017-12-19 09:45          6592188.0000\n"
     ]
    }
   ],
   "source": [
    "newdataset2 = newdataset2.replace('----', np.nan)\n",
    "newdataset2 = newdataset2.replace('###############', np.nan)\n",
    "data1 = newdataset2.dropna(axis = 0)\n",
    "data2 = data1.drop_duplicates(subset=['active energy(+)(kWh)','Date'],keep=False)\n",
    "print data2.head(10)"
   ]
  },
  {
   "cell_type": "code",
   "execution_count": 7,
   "metadata": {
    "scrolled": true
   },
   "outputs": [
    {
     "data": {
      "text/html": [
       "<div>\n",
       "<style>\n",
       "    .dataframe thead tr:only-child th {\n",
       "        text-align: right;\n",
       "    }\n",
       "\n",
       "    .dataframe thead th {\n",
       "        text-align: left;\n",
       "    }\n",
       "\n",
       "    .dataframe tbody tr th {\n",
       "        vertical-align: top;\n",
       "    }\n",
       "</style>\n",
       "<table border=\"1\" class=\"dataframe\">\n",
       "  <thead>\n",
       "    <tr style=\"text-align: right;\">\n",
       "      <th></th>\n",
       "      <th></th>\n",
       "      <th>Customer No.</th>\n",
       "      <th>Date</th>\n",
       "      <th>active energy(+)(kWh)</th>\n",
       "    </tr>\n",
       "    <tr>\n",
       "      <th>Customer No.</th>\n",
       "      <th>Date</th>\n",
       "      <th></th>\n",
       "      <th></th>\n",
       "      <th></th>\n",
       "    </tr>\n",
       "  </thead>\n",
       "  <tbody>\n",
       "    <tr>\n",
       "      <th rowspan=\"5\" valign=\"top\">4359239.0</th>\n",
       "      <th>2017-12-19 12:00:00</th>\n",
       "      <td>4359239.0</td>\n",
       "      <td>2017-12-19 12:00</td>\n",
       "      <td>6593676.0000</td>\n",
       "    </tr>\n",
       "    <tr>\n",
       "      <th>2017-12-19 11:45:00</th>\n",
       "      <td>4359239.0</td>\n",
       "      <td>2017-12-19 11:45</td>\n",
       "      <td>6593628.0000</td>\n",
       "    </tr>\n",
       "    <tr>\n",
       "      <th>2017-12-19 11:30:00</th>\n",
       "      <td>4359239.0</td>\n",
       "      <td>2017-12-19 11:30</td>\n",
       "      <td>6593580.0000</td>\n",
       "    </tr>\n",
       "    <tr>\n",
       "      <th>2017-12-19 11:15:00</th>\n",
       "      <td>4359239.0</td>\n",
       "      <td>2017-12-19 11:15</td>\n",
       "      <td>6593424.0000</td>\n",
       "    </tr>\n",
       "    <tr>\n",
       "      <th>2017-12-19 11:00:00</th>\n",
       "      <td>4359239.0</td>\n",
       "      <td>2017-12-19 11:00</td>\n",
       "      <td>6593148.0000</td>\n",
       "    </tr>\n",
       "  </tbody>\n",
       "</table>\n",
       "</div>"
      ],
      "text/plain": [
       "                                  Customer No.              Date  \\\n",
       "Customer No. Date                                                  \n",
       "4359239.0    2017-12-19 12:00:00     4359239.0  2017-12-19 12:00   \n",
       "             2017-12-19 11:45:00     4359239.0  2017-12-19 11:45   \n",
       "             2017-12-19 11:30:00     4359239.0  2017-12-19 11:30   \n",
       "             2017-12-19 11:15:00     4359239.0  2017-12-19 11:15   \n",
       "             2017-12-19 11:00:00     4359239.0  2017-12-19 11:00   \n",
       "\n",
       "                                 active energy(+)(kWh)  \n",
       "Customer No. Date                                       \n",
       "4359239.0    2017-12-19 12:00:00          6593676.0000  \n",
       "             2017-12-19 11:45:00          6593628.0000  \n",
       "             2017-12-19 11:30:00          6593580.0000  \n",
       "             2017-12-19 11:15:00          6593424.0000  \n",
       "             2017-12-19 11:00:00          6593148.0000  "
      ]
     },
     "execution_count": 7,
     "metadata": {},
     "output_type": "execute_result"
    }
   ],
   "source": [
    "DATE = pd.to_datetime(data2['Date'])\n",
    "SRN = pd.Series(data2['Customer No.'])\n",
    "data = data2.set_index([SRN,DATE])\n",
    "data.head(5)"
   ]
  },
  {
   "cell_type": "code",
   "execution_count": 9,
   "metadata": {},
   "outputs": [
    {
     "name": "stderr",
     "output_type": "stream",
     "text": [
      "/home/tzhang/anaconda2/lib/python2.7/site-packages/ipykernel_launcher.py:28: SettingWithCopyWarning: \n",
      "A value is trying to be set on a copy of a slice from a DataFrame.\n",
      "Try using .loc[row_indexer,col_indexer] = value instead\n",
      "\n",
      "See the caveats in the documentation: http://pandas.pydata.org/pandas-docs/stable/indexing.html#indexing-view-versus-copy\n"
     ]
    },
    {
     "name": "stdout",
     "output_type": "stream",
     "text": [
      "                                  Customer No.              Date  \\\n",
      "Customer No. Date                                                  \n",
      "531109.0     2016-08-19 12:00:00      531109.0  2016-08-19 12:00   \n",
      "             2016-08-19 11:45:00      531109.0  2016-08-19 11:45   \n",
      "             2016-08-19 11:30:00      531109.0  2016-08-19 11:30   \n",
      "             2016-08-19 11:15:00      531109.0  2016-08-19 11:15   \n",
      "             2016-08-19 11:00:00      531109.0  2016-08-19 11:00   \n",
      "             2016-08-19 10:45:00      531109.0  2016-08-19 10:45   \n",
      "             2016-08-19 10:30:00      531109.0  2016-08-19 10:30   \n",
      "             2016-08-19 10:15:00      531109.0  2016-08-19 10:15   \n",
      "             2016-08-19 10:00:00      531109.0  2016-08-19 10:00   \n",
      "             2016-08-19 09:45:00      531109.0  2016-08-19 09:45   \n",
      "\n",
      "                                 active energy(+)(kWh)  power  \n",
      "Customer No. Date                                              \n",
      "531109.0     2016-08-19 12:00:00           278504.0000  836.0  \n",
      "             2016-08-19 11:45:00           278299.0000  820.0  \n",
      "             2016-08-19 11:30:00           278093.0000  824.0  \n",
      "             2016-08-19 11:15:00           277885.0000  832.0  \n",
      "             2016-08-19 11:00:00           277681.0000  816.0  \n",
      "             2016-08-19 10:45:00           277473.0000  832.0  \n",
      "             2016-08-19 10:30:00           277264.0000  836.0  \n",
      "             2016-08-19 10:15:00           277054.0000  840.0  \n",
      "             2016-08-19 10:00:00           276843.0000  844.0  \n",
      "             2016-08-19 09:45:00           276633.0000  840.0  \n"
     ]
    }
   ],
   "source": [
    "import datetime as dt\n",
    "\n",
    "total_user_data = pd.DataFrame()\n",
    "\n",
    "for srn, DATE in data.groupby(level=0):\n",
    "    # right now the input is the only for one users with different date  \n",
    "    Input = DATE\n",
    "    \n",
    "    Input2 = DATE.get_values()\n",
    "    time = pd.DatetimeIndex(Input['Date'])\n",
    "    timediff = {}\n",
    "    eng_diff = {}\n",
    "    for i in range(len(Input)):\n",
    "        if i ==0:\n",
    "            timediff[0] = np.nan\n",
    "            eng_diff[0] = np.nan\n",
    "        else:\n",
    "            timediff[i] = time[i] - time[i - 1]\n",
    "            eng_diff[i] = float(Input['active energy(+)(kWh)'][i]) - float(Input['active energy(+)(kWh)'][i - 1])\n",
    " \n",
    "    diff_eng = pd.Series(eng_diff)\n",
    "    diff_time =  pd.Series(timediff)\n",
    "    # cal the time gap as hours\n",
    "    diff_time = diff_time.dt.seconds/(60 * 60) - 24\n",
    "    power = {}\n",
    "    power = diff_eng/diff_time\n",
    "    power1 = pd.Series(power)\n",
    "    Input['power'] = power1.values\n",
    "    # now we output our power and add it to our input\n",
    "    #user_data = Input.drop(['Customer No.','Date'],axis = 1)\n",
    "    user_data = Input\n",
    "    user_data = user_data.dropna()\n",
    "    total_user_data = total_user_data.append(user_data)\n",
    "# add all user data to total user data\n",
    "print total_user_data.head(10)  \n",
    "# finish the data prune     "
   ]
  },
  {
   "cell_type": "code",
   "execution_count": 10,
   "metadata": {},
   "outputs": [
    {
     "name": "stdout",
     "output_type": "stream",
     "text": [
      "srn_number 531109\n",
      "outlier_rate 0.032995\n",
      "outlier number 39\n",
      "normal_case_rate 0.967005\n",
      "srn_number 2097996\n",
      "outlier_rate 0.016663\n",
      "outlier number 665\n",
      "normal_case_rate 0.983337\n",
      "srn_number 2113241\n",
      "outlier_rate 0.015902\n",
      "outlier number 720\n",
      "normal_case_rate 0.984098\n",
      "srn_number 2118864\n",
      "outlier_rate 0.016439\n",
      "outlier number 786\n",
      "normal_case_rate 0.983561\n",
      "srn_number 2272639\n",
      "outlier_rate 0.043604\n",
      "outlier number 737\n",
      "normal_case_rate 0.956396\n",
      "srn_number 2851433\n",
      "outlier_rate 0.090704\n",
      "outlier number 4026\n",
      "normal_case_rate 0.909296\n",
      "srn_number 2980063\n",
      "outlier_rate 0.058145\n",
      "outlier number 2051\n",
      "normal_case_rate 0.941855\n",
      "srn_number 2993154\n",
      "outlier_rate 0.033663\n",
      "outlier number 109\n",
      "normal_case_rate 0.966337\n",
      "srn_number 3093584\n",
      "outlier_rate 0.071573\n",
      "outlier number 3777\n",
      "normal_case_rate 0.928427\n",
      "srn_number 3819314\n",
      "outlier_rate 0.167105\n",
      "outlier number 6866\n",
      "normal_case_rate 0.832895\n",
      "srn_number 4359239\n",
      "outlier_rate 0.084630\n",
      "outlier number 3121\n",
      "normal_case_rate 0.915370\n",
      "srn_number 4814120\n",
      "outlier_rate 0.192459\n",
      "outlier number 9999\n",
      "normal_case_rate 0.807541\n"
     ]
    }
   ],
   "source": [
    "from sklearn.ensemble import IsolationForest\n",
    "\n",
    "total_prediction = pd.Series()\n",
    "\n",
    "\n",
    "for srn, DATE in total_user_data.groupby(level = 0):\n",
    "    Input = DATE['power']\n",
    "    \n",
    "    fit_data = []\n",
    "    # use the whole training dataset \n",
    "    train_data1 = Input.value_counts()\n",
    "    train_data_idx = np.array(train_data1.index).reshape(-1,1)\n",
    "    # the fitting dataset we use the top 20% common values in the training dataset as fitting dataset\n",
    "    fit_data_idx = train_data_idx[:len(train_data_idx)/5]\n",
    "    train_data = Input.values.reshape(-1,1)\n",
    "    for i in train_data:\n",
    "        for j in fit_data_idx:\n",
    "            if i == j:\n",
    "                fit_data.append(i)\n",
    "    \n",
    "\n",
    "    ii =IsolationForest(contamination = 0.01).fit(fit_data).predict(train_data)\n",
    "    pre1 = pd.Series(ii)\n",
    "    \n",
    "    total_prediction = total_prediction.append(pre1, ignore_index = True)\n",
    "    \n",
    "    inner = []\n",
    "    outer = []\n",
    "    error_rate_total = []\n",
    "    outer_number = []\n",
    "    for k in range(0,len(ii)):\n",
    "        if ii[k] ==1:\n",
    "            inner.append(ii[k])\n",
    "        else: outer.append(ii[k])\n",
    "    error_rate_total = np.append(error_rate_total,float(len(outer))/(len(outer)+len(inner)))\n",
    "    outer_number = np.append(outer_number,len(outer))\n",
    "    normal_case = 1 - error_rate_total\n",
    "    \n",
    "    print 'srn_number %d' %srn\n",
    "    print 'outlier_rate %f' %error_rate_total\n",
    "    print 'outlier number %d'%outer_number\n",
    "    print 'normal_case_rate %f' %normal_case\n",
    "\n",
    "\n"
   ]
  },
  {
   "cell_type": "code",
   "execution_count": 11,
   "metadata": {},
   "outputs": [
    {
     "name": "stdout",
     "output_type": "stream",
     "text": [
      "                                  Customer No.              Date  \\\n",
      "Customer No. Date                                                  \n",
      "531109.0     2016-08-19 12:00:00      531109.0  2016-08-19 12:00   \n",
      "             2016-08-19 11:45:00      531109.0  2016-08-19 11:45   \n",
      "             2016-08-19 11:30:00      531109.0  2016-08-19 11:30   \n",
      "             2016-08-19 11:15:00      531109.0  2016-08-19 11:15   \n",
      "             2016-08-19 11:00:00      531109.0  2016-08-19 11:00   \n",
      "             2016-08-19 10:45:00      531109.0  2016-08-19 10:45   \n",
      "             2016-08-19 10:30:00      531109.0  2016-08-19 10:30   \n",
      "             2016-08-19 10:15:00      531109.0  2016-08-19 10:15   \n",
      "             2016-08-19 10:00:00      531109.0  2016-08-19 10:00   \n",
      "             2016-08-19 09:45:00      531109.0  2016-08-19 09:45   \n",
      "\n",
      "                                 active energy(+)(kWh)  power  pre  \n",
      "Customer No. Date                                                   \n",
      "531109.0     2016-08-19 12:00:00           278504.0000  836.0    1  \n",
      "             2016-08-19 11:45:00           278299.0000  820.0    1  \n",
      "             2016-08-19 11:30:00           278093.0000  824.0    1  \n",
      "             2016-08-19 11:15:00           277885.0000  832.0    1  \n",
      "             2016-08-19 11:00:00           277681.0000  816.0    1  \n",
      "             2016-08-19 10:45:00           277473.0000  832.0    1  \n",
      "             2016-08-19 10:30:00           277264.0000  836.0    1  \n",
      "             2016-08-19 10:15:00           277054.0000  840.0    1  \n",
      "             2016-08-19 10:00:00           276843.0000  844.0    1  \n",
      "             2016-08-19 09:45:00           276633.0000  840.0    1  \n"
     ]
    }
   ],
   "source": [
    "total_user_data['pre'] = total_prediction.values\n",
    "print total_user_data.head(10)"
   ]
  },
  {
   "cell_type": "code",
   "execution_count": 12,
   "metadata": {},
   "outputs": [
    {
     "name": "stdout",
     "output_type": "stream",
     "text": [
      "                                  Customer No.              Date  \\\n",
      "Customer No. Date                                                  \n",
      "531109.0     2016-08-17 23:30:00      531109.0  2016-08-17 23:30   \n",
      "             2016-08-17 23:15:00      531109.0  2016-08-17 23:15   \n",
      "             2016-08-17 23:00:00      531109.0  2016-08-17 23:00   \n",
      "             2016-08-17 22:45:00      531109.0  2016-08-17 22:45   \n",
      "             2016-08-17 22:30:00      531109.0  2016-08-17 22:30   \n",
      "             2016-08-17 22:15:00      531109.0  2016-08-17 22:15   \n",
      "             2016-08-17 22:00:00      531109.0  2016-08-17 22:00   \n",
      "             2016-08-17 21:45:00      531109.0  2016-08-17 21:45   \n",
      "             2016-08-17 21:30:00      531109.0  2016-08-17 21:30   \n",
      "             2016-08-17 21:15:00      531109.0  2016-08-17 21:15   \n",
      "\n",
      "                                 active energy(+)(kWh)  power  pre  \n",
      "Customer No. Date                                                   \n",
      "531109.0     2016-08-17 23:30:00           250269.0000   -0.0   -1  \n",
      "             2016-08-17 23:15:00           250269.0000   -0.0   -1  \n",
      "             2016-08-17 23:00:00           250269.0000   -0.0   -1  \n",
      "             2016-08-17 22:45:00           250269.0000   -0.0   -1  \n",
      "             2016-08-17 22:30:00           250269.0000   -0.0   -1  \n",
      "             2016-08-17 22:15:00           250269.0000   -0.0   -1  \n",
      "             2016-08-17 22:00:00           250269.0000   -0.0   -1  \n",
      "             2016-08-17 21:45:00           250269.0000   -0.0   -1  \n",
      "             2016-08-17 21:30:00           250269.0000   -0.0   -1  \n",
      "             2016-08-17 21:15:00           250269.0000   -0.0   -1  \n"
     ]
    }
   ],
   "source": [
    "abnormal_value = total_user_data[total_user_data.pre == -1]\n",
    "print abnormal_value.head(10)\n"
   ]
  },
  {
   "cell_type": "code",
   "execution_count": 80,
   "metadata": {
    "collapsed": true
   },
   "outputs": [],
   "source": [
    "# save file\n",
    "abnormal_value.to_csv('result.csv')"
   ]
  },
  {
   "cell_type": "code",
   "execution_count": 76,
   "metadata": {},
   "outputs": [
    {
     "data": {
      "text/plain": [
       "0"
      ]
     },
     "execution_count": 76,
     "metadata": {},
     "output_type": "execute_result"
    }
   ],
   "source": [
    "6%2"
   ]
  },
  {
   "cell_type": "code",
   "execution_count": 67,
   "metadata": {},
   "outputs": [
    {
     "name": "stdout",
     "output_type": "stream",
     "text": [
      "13\n",
      "7\n",
      "4\n",
      "5\n"
     ]
    },
    {
     "data": {
      "text/plain": [
       "True"
      ]
     },
     "execution_count": 67,
     "metadata": {},
     "output_type": "execute_result"
    }
   ],
   "source": [
    "isPerfectSquare(25)"
   ]
  },
  {
   "cell_type": "code",
   "execution_count": 98,
   "metadata": {},
   "outputs": [
    {
     "data": {
      "text/plain": [
       "False"
      ]
     },
     "execution_count": 98,
     "metadata": {},
     "output_type": "execute_result"
    }
   ],
   "source": [
    "s = \"asjklfdj\"\n",
    "s[2].lower() == s[3].lower()"
   ]
  },
  {
   "cell_type": "code",
   "execution_count": null,
   "metadata": {
    "collapsed": true
   },
   "outputs": [],
   "source": []
  }
 ],
 "metadata": {
  "kernelspec": {
   "display_name": "Python 2",
   "language": "python",
   "name": "python2"
  },
  "language_info": {
   "codemirror_mode": {
    "name": "ipython",
    "version": 2
   },
   "file_extension": ".py",
   "mimetype": "text/x-python",
   "name": "python",
   "nbconvert_exporter": "python",
   "pygments_lexer": "ipython2",
   "version": "2.7.14"
  }
 },
 "nbformat": 4,
 "nbformat_minor": 2
}
